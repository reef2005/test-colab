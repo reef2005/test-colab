{
  "nbformat": 4,
  "nbformat_minor": 0,
  "metadata": {
    "colab": {
      "provenance": [],
      "authorship_tag": "ABX9TyMKEzo1qIGD9E2tYQFe8FfC",
      "include_colab_link": true
    },
    "kernelspec": {
      "name": "python3",
      "display_name": "Python 3"
    },
    "language_info": {
      "name": "python"
    }
  },
  "cells": [
    {
      "cell_type": "markdown",
      "metadata": {
        "id": "view-in-github",
        "colab_type": "text"
      },
      "source": [
        "<a href=\"https://colab.research.google.com/github/reef2005/test-colab/blob/main/template.ipynb\" target=\"_parent\"><img src=\"https://colab.research.google.com/assets/colab-badge.svg\" alt=\"Open In Colab\"/></a>"
      ]
    },
    {
      "cell_type": "code",
      "execution_count": 10,
      "metadata": {
        "id": "PZrQzZvGxR9f",
        "outputId": "07d5cb8f-cf89-49e9-a945-e8e9a66edc84",
        "colab": {
          "base_uri": "https://localhost:8080/"
        }
      },
      "outputs": [
        {
          "output_type": "stream",
          "name": "stdout",
          "text": [
            "x=2,938,011.45\n"
          ]
        }
      ],
      "source": [
        "x = 2938011.452953\n",
        "print(f'x={x:,.2f}')"
      ]
    },
    {
      "cell_type": "code",
      "source": [
        "x = x/10**7\n",
        "print(f'x={x:.2%}')"
      ],
      "metadata": {
        "id": "NLWchl5yFH_x",
        "outputId": "895c4209-bb31-420d-d2e2-26d66e9802ba",
        "colab": {
          "base_uri": "https://localhost:8080/"
        }
      },
      "execution_count": 11,
      "outputs": [
        {
          "output_type": "stream",
          "name": "stdout",
          "text": [
            "x=29.38%\n"
          ]
        }
      ]
    }
  ]
}