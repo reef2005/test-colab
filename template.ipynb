{
  "nbformat": 4,
  "nbformat_minor": 0,
  "metadata": {
    "colab": {
      "provenance": [],
      "authorship_tag": "ABX9TyM5+g+CGBPVQgxMz7cRnZJY",
      "include_colab_link": true
    },
    "kernelspec": {
      "name": "python3",
      "display_name": "Python 3"
    },
    "language_info": {
      "name": "python"
    }
  },
  "cells": [
    {
      "cell_type": "markdown",
      "metadata": {
        "id": "view-in-github",
        "colab_type": "text"
      },
      "source": [
        "<a href=\"https://colab.research.google.com/github/reef2005/test-colab/blob/main/template.ipynb\" target=\"_parent\"><img src=\"https://colab.research.google.com/assets/colab-badge.svg\" alt=\"Open In Colab\"/></a>"
      ]
    },
    {
      "cell_type": "markdown",
      "source": [
        "## Section 1"
      ],
      "metadata": {
        "id": "cM6yZIYmIxWX"
      }
    },
    {
      "cell_type": "code",
      "execution_count": null,
      "metadata": {
        "id": "PZrQzZvGxR9f",
        "outputId": "07d5cb8f-cf89-49e9-a945-e8e9a66edc84",
        "colab": {
          "base_uri": "https://localhost:8080/"
        }
      },
      "outputs": [
        {
          "output_type": "stream",
          "name": "stdout",
          "text": [
            "x=2,938,011.45\n"
          ]
        }
      ],
      "source": [
        "x = 2938011.452953\n",
        "print(f'x={x:,.2f}')"
      ]
    },
    {
      "cell_type": "markdown",
      "source": [
        "## Section 2"
      ],
      "metadata": {
        "id": "WdvQvjuQIha0"
      }
    },
    {
      "cell_type": "code",
      "source": [
        "x = x/10**7\n",
        "print(f'x={x:.2%}')"
      ],
      "metadata": {
        "id": "NLWchl5yFH_x",
        "outputId": "895c4209-bb31-420d-d2e2-26d66e9802ba",
        "colab": {
          "base_uri": "https://localhost:8080/"
        }
      },
      "execution_count": null,
      "outputs": [
        {
          "output_type": "stream",
          "name": "stdout",
          "text": [
            "x=29.38%\n"
          ]
        }
      ]
    },
    {
      "cell_type": "code",
      "source": [
        "import numpy as np\n",
        "np.__version__\n",
        "\n",
        "np.random.rand(3,3)\n",
        "\n",
        "# using \".rand?\" or \"rand(\" will show its description and methods"
      ],
      "metadata": {
        "id": "8p7GFLX-JXYU",
        "outputId": "3cf16946-ba07-4856-deb8-fa4debe67132",
        "colab": {
          "base_uri": "https://localhost:8080/"
        }
      },
      "execution_count": 14,
      "outputs": [
        {
          "output_type": "execute_result",
          "data": {
            "text/plain": [
              "array([[0.30732409, 0.22998855, 0.97794515],\n",
              "       [0.23321684, 0.18845408, 0.20342543],\n",
              "       [0.61925803, 0.6814481 , 0.74311336]])"
            ]
          },
          "metadata": {},
          "execution_count": 14
        }
      ]
    },
    {
      "cell_type": "code",
      "source": [
        "pip install imageai"
      ],
      "metadata": {
        "id": "7sznao6jK--y",
        "outputId": "d45390ff-242a-4d19-f646-301d9fe45ba2",
        "colab": {
          "base_uri": "https://localhost:8080/"
        }
      },
      "execution_count": 15,
      "outputs": [
        {
          "output_type": "stream",
          "name": "stdout",
          "text": [
            "Collecting imageai\n",
            "  Downloading imageai-3.0.3-py3-none-any.whl.metadata (340 bytes)\n",
            "Downloading imageai-3.0.3-py3-none-any.whl (69 kB)\n",
            "\u001b[?25l   \u001b[90m━━━━━━━━━━━━━━━━━━━━━━━━━━━━━━━━━━━━━━━━\u001b[0m \u001b[32m0.0/69.8 kB\u001b[0m \u001b[31m?\u001b[0m eta \u001b[36m-:--:--\u001b[0m\r\u001b[2K   \u001b[90m━━━━━━━━━━━━━━━━━━━━━━━━━━━━━━━━━━━━━━━━\u001b[0m \u001b[32m69.8/69.8 kB\u001b[0m \u001b[31m3.1 MB/s\u001b[0m eta \u001b[36m0:00:00\u001b[0m\n",
            "\u001b[?25hInstalling collected packages: imageai\n",
            "Successfully installed imageai-3.0.3\n"
          ]
        }
      ]
    },
    {
      "cell_type": "code",
      "source": [
        "import imageai"
      ],
      "metadata": {
        "id": "WB3bXYEKLPMF"
      },
      "execution_count": 16,
      "outputs": []
    },
    {
      "cell_type": "markdown",
      "source": [
        "## Markdown"
      ],
      "metadata": {
        "id": "nonCs4ohOvba"
      }
    },
    {
      "cell_type": "markdown",
      "source": [
        "italic *markdown*  \n",
        "bold **markdown** or __markdown__  \n",
        "including short code in text: `print('hello!')`  \n",
        "including long code in text:\n",
        "```\n",
        "x=456544\n",
        "print('f{x:,}')\n",
        "```  \n",
        "this text is indented\n",
        "> Python\n",
        ">> Code\n",
        "\n",
        "ordered list:\n",
        "1. one  \n",
        "2. two  \n",
        "3. three\n",
        "\n",
        "unordered list:  \n",
        "* one    \n",
        "* two  \n",
        "* three\n",
        "\n",
        "create a web link:\n",
        "[Google](https://google.com)\n",
        "\n",
        "display an image:\n",
        "\n",
        "![Python](https://upload.wikimedia.org/wikipedia/commons/c/c3/Python-logo-notext.svg)  \n",
        "\n",
        "using latex:  \n",
        "underline $\\underline{\\text{line}}$  \n",
        "$y = 2x$  \n",
        "\n",
        "$i=\\int_0^\\infty x^ndx$  \n",
        "\n",
        "$\\sum_{k=1}^nk=\\frac{1}{2}n(1+n)$  \n",
        "\n",
        "$A = \\begin{pmatrix}\n",
        "1,1  \\\\\n",
        "-1,2\n",
        "\\end{pmatrix}\n",
        "$\n",
        "\n",
        "x | y | z\n",
        "---|---|---  \n",
        "0 | 1 | -1\n",
        "3 | 0 | -2\n",
        "1 | 2 | -1\n",
        "\n",
        "\n",
        "\n",
        "\n",
        "\n"
      ],
      "metadata": {
        "id": "m0CLs2hUPmRL"
      }
    }
  ]
}